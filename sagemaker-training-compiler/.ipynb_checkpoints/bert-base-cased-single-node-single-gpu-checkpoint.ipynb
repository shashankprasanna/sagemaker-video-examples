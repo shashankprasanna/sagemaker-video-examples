{
 "cells": [
  {
   "cell_type": "markdown",
   "metadata": {},
   "source": [
    "# Compile and Train a Hugging Face Transformer ``BERT`` Model with the SST Dataset using SageMaker Training Compiler"
   ]
  },
  {
   "cell_type": "code",
   "execution_count": null,
   "metadata": {},
   "outputs": [],
   "source": [
    "# !pip install sagemaker botocore boto3 awscli --upgrade"
   ]
  },
  {
   "cell_type": "code",
   "execution_count": null,
   "metadata": {},
   "outputs": [],
   "source": [
    "# !pip install transformers datasets --upgrade"
   ]
  },
  {
   "cell_type": "code",
   "execution_count": null,
   "metadata": {},
   "outputs": [],
   "source": [
    "import botocore\n",
    "import boto3\n",
    "import sagemaker\n",
    "import transformers\n",
    "from sagemaker.huggingface import HuggingFace\n",
    "\n",
    "print(f\"sagemaker: {sagemaker.__version__}\")\n",
    "print(f\"transformers: {transformers.__version__}\")"
   ]
  },
  {
   "cell_type": "code",
   "execution_count": null,
   "metadata": {},
   "outputs": [],
   "source": [
    "sess = sagemaker.Session()\n",
    "# sagemaker session bucket -> used for uploading data, models and logs\n",
    "# sagemaker will automatically create this bucket if it not exists\n",
    "sagemaker_session_bucket = None\n",
    "if sagemaker_session_bucket is None and sess is not None:\n",
    "    # set to default bucket if a bucket name is not given\n",
    "    sagemaker_session_bucket = sess.default_bucket()\n",
    "\n",
    "role = sagemaker.get_execution_role()\n",
    "sess = sagemaker.Session(default_bucket=sagemaker_session_bucket)\n",
    "\n",
    "print(f\"sagemaker role arn: {role}\")\n",
    "print(f\"sagemaker bucket: {sess.default_bucket()}\")\n",
    "print(f\"sagemaker session region: {sess.boto_region_name}\")"
   ]
  },
  {
   "cell_type": "markdown",
   "metadata": {},
   "source": [
    "### Tokenization "
   ]
  },
  {
   "cell_type": "code",
   "execution_count": null,
   "metadata": {},
   "outputs": [],
   "source": [
    "from datasets import load_dataset\n",
    "from transformers import AutoTokenizer\n",
    "from datasets import Dataset\n",
    "\n",
    "# tokenizer used in preprocessing\n",
    "tokenizer_name = \"bert-base-cased\"\n",
    "\n",
    "# dataset used\n",
    "dataset_name = \"sst\""
   ]
  },
  {
   "cell_type": "code",
   "execution_count": null,
   "metadata": {},
   "outputs": [],
   "source": [
    "import pandas as pd\n",
    "\n",
    "# Read our data into pandas DataFrames to prepare it for training\n",
    "# Initially our dataset will contain one column called 'line'\n",
    "\n",
    "test_df = pd.read_csv(\n",
    "    \"https://sagemaker-sample-files.s3.amazonaws.com/datasets/text/SST2/sst2.test\",\n",
    "    sep=\"delimiter\",\n",
    "    header=None,\n",
    "    engine=\"python\",\n",
    "    names=[\"line\"],\n",
    ")\n",
    "train_df = pd.read_csv(\n",
    "    \"https://sagemaker-sample-files.s3.amazonaws.com/datasets/text/SST2/sst2.train\",\n",
    "    sep=\"delimiter\",\n",
    "    header=None,\n",
    "    engine=\"python\",\n",
    "    names=[\"line\"],\n",
    ")\n",
    "val_df = pd.read_csv(\n",
    "    \"https://sagemaker-sample-files.s3.amazonaws.com/datasets/text/SST2/sst2.val\",\n",
    "    sep=\"delimiter\",\n",
    "    header=None,\n",
    "    engine=\"python\",\n",
    "    names=[\"line\"],\n",
    ")"
   ]
  },
  {
   "cell_type": "code",
   "execution_count": null,
   "metadata": {},
   "outputs": [],
   "source": [
    "# Split each row into two columns one for the label and one for the text\n",
    "\n",
    "test_df[[\"label\", \"text\"]] = test_df[\"line\"].str.split(\" \", 1, expand=True)\n",
    "train_df[[\"label\", \"text\"]] = train_df[\"line\"].str.split(\" \", 1, expand=True)\n",
    "val_df[[\"label\", \"text\"]] = val_df[\"line\"].str.split(\" \", 1, expand=True)"
   ]
  },
  {
   "cell_type": "code",
   "execution_count": null,
   "metadata": {},
   "outputs": [],
   "source": [
    "# Drop the line column as it is no longer needed since we split this column above\n",
    "\n",
    "test_df.drop(\"line\", axis=1, inplace=True)\n",
    "train_df.drop(\"line\", axis=1, inplace=True)\n",
    "val_df.drop(\"line\", axis=1, inplace=True)"
   ]
  },
  {
   "cell_type": "code",
   "execution_count": null,
   "metadata": {},
   "outputs": [],
   "source": [
    "# Convert the label into numeric instead of object type to prepare binary labels for training\n",
    "# After conversion the labels will be 8 bit integers\n",
    "\n",
    "test_df[\"label\"] = pd.to_numeric(test_df[\"label\"], downcast=\"integer\")\n",
    "train_df[\"label\"] = pd.to_numeric(train_df[\"label\"], downcast=\"integer\")\n",
    "val_df[\"label\"] = pd.to_numeric(val_df[\"label\"], downcast=\"integer\")"
   ]
  },
  {
   "cell_type": "code",
   "execution_count": null,
   "metadata": {},
   "outputs": [],
   "source": [
    "# Combine test and val data into one df\n",
    "\n",
    "test_df = pd.concat([test_df, val_df], ignore_index=True)"
   ]
  },
  {
   "cell_type": "code",
   "execution_count": null,
   "metadata": {},
   "outputs": [],
   "source": [
    "train_dataset = Dataset.from_pandas(train_df)\n",
    "test_dataset = Dataset.from_pandas(test_df)"
   ]
  },
  {
   "cell_type": "code",
   "execution_count": null,
   "metadata": {},
   "outputs": [],
   "source": [
    "# Download tokenizer\n",
    "# The tokenizer is loaded from the AutoTokenizer class and we use the from_pretrained method\n",
    "# This allows us to instatiate a tokenizer based on a pretrained model\n",
    "tokenizer = AutoTokenizer.from_pretrained(tokenizer_name)\n",
    "\n",
    "# Tokenizer helper function\n",
    "# This function specifies the input should be tokenized by padding to the max_length which is 512\n",
    "# Anything beyond this length will be truncated\n",
    "# This function will convert the 'text' column to a set of numeric input ids that can be used for\n",
    "# model training\n",
    "# For more information on tokenization see the Hugging Face documentation: https://huggingface.co/transformers/preprocessing.html\n",
    "def tokenize(batch):\n",
    "    return tokenizer(batch[\"text\"], padding=\"max_length\", truncation=True)\n",
    "\n",
    "\n",
    "# Tokenize dataset in batches\n",
    "# See Hugging Face documentation for more info on the map method: https://huggingface.co/docs/datasets/package_reference/main_classes.html#datasets.Dataset.map\n",
    "train_dataset = train_dataset.map(tokenize, batched=True)\n",
    "test_dataset = test_dataset.map(tokenize, batched=True)"
   ]
  },
  {
   "cell_type": "code",
   "execution_count": null,
   "metadata": {},
   "outputs": [],
   "source": [
    "train_dataset = train_dataset.rename_column(\"label\", \"labels\")\n",
    "train_dataset.set_format(\"torch\", columns=[\"input_ids\", \"attention_mask\", \"labels\"])\n",
    "test_dataset = test_dataset.rename_column(\"label\", \"labels\")\n",
    "test_dataset.set_format(\"torch\", columns=[\"input_ids\", \"attention_mask\", \"labels\"])"
   ]
  },
  {
   "cell_type": "markdown",
   "metadata": {},
   "source": [
    "### Uploading data to `sagemaker_session_bucket`\n",
    "\n",
    "After we processed the `datasets` we are going to use the new `FileSystem` [integration](https://huggingface.co/docs/datasets/filesystems.html) to upload our dataset to S3."
   ]
  },
  {
   "cell_type": "code",
   "execution_count": null,
   "metadata": {},
   "outputs": [],
   "source": [
    "import botocore\n",
    "from datasets.filesystems import S3FileSystem\n",
    "\n",
    "s3 = S3FileSystem()\n",
    "\n",
    "# s3 key prefix for setting up the data channel for the current SageMaker session\n",
    "s3_prefix = \"samples/datasets/sst\"\n",
    "\n",
    "# save train_dataset to s3\n",
    "training_input_path = f\"s3://{sess.default_bucket()}/{s3_prefix}/train\"\n",
    "train_dataset.save_to_disk(training_input_path, fs=s3)\n",
    "\n",
    "# save test_dataset to s3\n",
    "test_input_path = f\"s3://{sess.default_bucket()}/{s3_prefix}/test\"\n",
    "test_dataset.save_to_disk(test_input_path, fs=s3)"
   ]
  },
  {
   "cell_type": "markdown",
   "metadata": {},
   "source": [
    "## SageMaker Training Job"
   ]
  },
  {
   "cell_type": "markdown",
   "metadata": {},
   "source": [
    "### Training a PyTorch Trainer without compiling"
   ]
  },
  {
   "cell_type": "code",
   "execution_count": null,
   "metadata": {},
   "outputs": [],
   "source": [
    "hyperparameters = {\"epochs\": 5, \n",
    "                   \"train_batch_size\": 14, \n",
    "                   \"model_name\": \"bert-base-cased\"}\n",
    "\n",
    "# Scale the learning rate by batch size, as original LR was using batch size of 32\n",
    "hyperparameters[\"learning_rate\"] = float(\"5e-5\") / 32 * hyperparameters[\"train_batch_size\"]\n",
    "\n",
    "# Scale the volume size by number of epochs\n",
    "volume_size = 60 + 2 * hyperparameters[\"epochs\"]"
   ]
  },
  {
   "cell_type": "code",
   "execution_count": null,
   "metadata": {},
   "outputs": [],
   "source": [
    "# By setting the hyperparameters in the HuggingFace Estimator below\n",
    "# and using the AutoModelForSequenceClassification class in the train.py script\n",
    "# we can fine-tune the bert-base-cased pretrained Transformer for sequence classification\n",
    "\n",
    "huggingface_estimator = HuggingFace(\n",
    "    entry_point          = \"train.py\",\n",
    "    source_dir           = \"./scripts\",\n",
    "    instance_type        = \"ml.p3.2xlarge\",\n",
    "    instance_count       = 1,\n",
    "    role                 = role,\n",
    "    py_version           = \"py38\",\n",
    "    base_job_name        = \"native-sst-bert-base-cased-p3-2x-pytorch-190\",\n",
    "    volume_size          = volume_size,\n",
    "    transformers_version = \"4.11.0\",\n",
    "    pytorch_version      = \"1.9.0\",\n",
    "    hyperparameters      = hyperparameters,\n",
    "    disable_profiler     = True,\n",
    "    debugger_hook_config = False,\n",
    ")\n",
    "\n",
    "# starting the train job with our uploaded datasets as input\n",
    "huggingface_estimator.fit({\"train\": training_input_path, \"test\": test_input_path}, wait=False)\n",
    "\n",
    "# The name of the training job. You might need to note this down in case your kernel crashes.\n",
    "huggingface_estimator.latest_training_job.name"
   ]
  },
  {
   "cell_type": "markdown",
   "metadata": {},
   "source": [
    "### Training a PyTorch Trainer with SageMaker Training Compiler"
   ]
  },
  {
   "cell_type": "markdown",
   "metadata": {},
   "source": [
    "Compilation through Training Compiler changes the memory footprint of the model. Most commonly, this manifests as a reduction in memory utilization and a consequent increase in the largest batch size that can fit on the GPU. Note that if you want to change the batch size, you must adjust the learning rate appropriately.\n",
    "\n",
    "**Note:** We recommend you to turn the SageMaker Debugger's profiling and debugging tools off when you use compilation to avoid additional overheads.\n",
    "\n",
    "We use the tested batch size that's provided at [Tested Models](https://docs.aws.amazon.com/sagemaker/latest/dg/training-compiler-support.html#training-compiler-tested-models) in the *SageMaker Training Compiler Developer Guide*."
   ]
  },
  {
   "cell_type": "code",
   "execution_count": null,
   "metadata": {},
   "outputs": [],
   "source": [
    "from sagemaker.huggingface import HuggingFace, TrainingCompilerConfig\n",
    "\n",
    "hyperparameters = {\n",
    "    \"epochs\": 5,\n",
    "    \"train_batch_size\": 24,\n",
    "    \"model_name\": \"bert-base-cased\",\n",
    "}\n",
    "\n",
    "# Scale the learning rate by batch size, as original LR was using batch size of 32\n",
    "hyperparameters[\"learning_rate\"] = float(\"5e-5\") / 32 * hyperparameters[\"train_batch_size\"]\n",
    "\n",
    "# Scale the volume size by number of epochs\n",
    "volume_size = 60 + 2 * hyperparameters[\"epochs\"]"
   ]
  },
  {
   "cell_type": "code",
   "execution_count": null,
   "metadata": {},
   "outputs": [],
   "source": [
    "# By setting the hyperparameters in the HuggingFace Estimator below\n",
    "# and using the AutoModelForSequenceClassification class in the train.py script\n",
    "# the bert-base-cased pretrained Transformer is fine-tuned for sequence classification\n",
    "\n",
    "# Importantly, the TrainingCompilerConfig() is passed below to enable the SageMaker Training Compiler\n",
    "\n",
    "sm_training_compiler_estimator = HuggingFace(\n",
    "    entry_point          = \"train.py\",\n",
    "    source_dir           = \"./scripts\",\n",
    "    instance_type        = \"ml.p3.2xlarge\",\n",
    "    instance_count       = 1,\n",
    "    role                 = role,\n",
    "    py_version           = \"py38\",\n",
    "    base_job_name        = \"sm-compiled-sst-bert-base-cased-p3-2x-pytorch-190\",\n",
    "    volume_size          = volume_size,\n",
    "    transformers_version = \"4.11.0\",\n",
    "    pytorch_version      = \"1.9.0\",\n",
    "    compiler_config      = TrainingCompilerConfig(),\n",
    "    hyperparameters      = hyperparameters,\n",
    "    disable_profiler     = True,\n",
    "    debugger_hook_config = False,\n",
    ")\n",
    "\n",
    "# starting the train job with our uploaded datasets as input\n",
    "sm_training_compiler_estimator.fit(\n",
    "    {\"train\": training_input_path, \"test\": test_input_path}, wait=False\n",
    ")\n",
    "\n",
    "# The name of the training job. You might need to note this down in case your kernel crashes.\n",
    "sm_training_compiler_estimator.latest_training_job.name"
   ]
  },
  {
   "cell_type": "markdown",
   "metadata": {},
   "source": [
    "### Wait for the training jobs to complete"
   ]
  },
  {
   "cell_type": "code",
   "execution_count": null,
   "metadata": {},
   "outputs": [],
   "source": [
    "waiter = huggingface_estimator.sagemaker_session.sagemaker_client.get_waiter(\n",
    "    \"training_job_completed_or_stopped\"\n",
    ")\n",
    "waiter.wait(TrainingJobName=huggingface_estimator.latest_training_job.name)\n",
    "waiter = sm_training_compiler_estimator.sagemaker_session.sagemaker_client.get_waiter(\n",
    "    \"training_job_completed_or_stopped\"\n",
    ")\n",
    "waiter.wait(TrainingJobName=sm_training_compiler_estimator.latest_training_job.name)"
   ]
  },
  {
   "cell_type": "markdown",
   "metadata": {},
   "source": [
    "## Analysis and Results"
   ]
  },
  {
   "cell_type": "markdown",
   "metadata": {},
   "source": [
    "### Load information and logs of the training job *without* SageMaker Training Compiler"
   ]
  },
  {
   "cell_type": "code",
   "execution_count": null,
   "metadata": {
    "scrolled": true
   },
   "outputs": [],
   "source": [
    "huggingface_estimator = HuggingFace.attach(\"native-sst-bert-base-cased-p3-2x-pytorc-2021-12-13-09-54-02-348\")\n",
    "# access the logs of the native training job\n",
    "# huggingface_estimator.sagemaker_session.logs_for_job(huggingface_estimator.latest_training_job.name)"
   ]
  },
  {
   "cell_type": "code",
   "execution_count": null,
   "metadata": {},
   "outputs": [],
   "source": [
    "%%capture native\n",
    "huggingface_estimator.logs()"
   ]
  },
  {
   "cell_type": "code",
   "execution_count": null,
   "metadata": {},
   "outputs": [],
   "source": [
    "# container image used for native training job\n",
    "print(f\"container image used for training job: \\n{huggingface_estimator.image_uri}\\n\")\n",
    "\n",
    "# s3 uri where the native trained model is located\n",
    "print(f\"s3 uri where the trained model is located: \\n{huggingface_estimator.model_data}\\n\")\n",
    "\n",
    "# latest training job name for this estimator\n",
    "print(\n",
    "    f\"latest training job name for this estimator: \\n{huggingface_estimator.latest_training_job.name}\\n\"\n",
    ")"
   ]
  },
  {
   "cell_type": "markdown",
   "metadata": {},
   "source": [
    "### Load information and logs of the training job *with* SageMaker Training Compiler"
   ]
  },
  {
   "cell_type": "code",
   "execution_count": null,
   "metadata": {},
   "outputs": [],
   "source": [
    "sm_training_compiler_estimator = HuggingFace.attach(\"sm-compiled-sst-bert-base-cased-p3-2x-p-2021-12-13-09-54-03-153\")\n",
    "# access the logs of the optimized training job\n",
    "# sm_training_compiler_estimator.sagemaker_session.logs_for_job(sm_training_compiler_estimator.latest_training_job.name)"
   ]
  },
  {
   "cell_type": "code",
   "execution_count": null,
   "metadata": {},
   "outputs": [],
   "source": [
    "%%capture optimized\n",
    "sm_training_compiler_estimator.logs()"
   ]
  },
  {
   "cell_type": "code",
   "execution_count": null,
   "metadata": {},
   "outputs": [],
   "source": [
    "# container image used for optimized training job\n",
    "print(f\"container image used for training job: \\n{sm_training_compiler_estimator.image_uri}\\n\")\n",
    "\n",
    "# s3 uri where the optimized trained model is located\n",
    "print(f\"s3 uri where the trained model is located: \\n{sm_training_compiler_estimator.model_data}\\n\")\n",
    "\n",
    "# latest training job name for this estimator\n",
    "print(\n",
    "    f\"latest training job name for this estimator: \\n{sm_training_compiler_estimator.latest_training_job.name}\\n\"\n",
    ")"
   ]
  },
  {
   "cell_type": "markdown",
   "metadata": {},
   "source": [
    "### Create helper functions for analysis"
   ]
  },
  {
   "cell_type": "code",
   "execution_count": null,
   "metadata": {},
   "outputs": [],
   "source": [
    "from ast import literal_eval\n",
    "from collections import defaultdict\n",
    "from matplotlib import pyplot as plt\n",
    "\n",
    "# Intermediary function for processing each line of stdout captured\n",
    "# Remove leading and trailing whitespace and append data in curly braces\n",
    "# to final list\n",
    "def _summarize(captured):\n",
    "    final = []\n",
    "    for line in captured.stdout.split(\"\\n\"):\n",
    "        cleaned = line.strip()\n",
    "        if \"{\" in cleaned and \"}\" in cleaned:\n",
    "            final.append(cleaned[cleaned.index(\"{\") : cleaned.index(\"}\") + 1])\n",
    "    return final\n",
    "\n",
    "\n",
    "# Check input with literal_eval\n",
    "# https://docs.python.org/3/library/ast.html\n",
    "def make_sense(string):\n",
    "    try:\n",
    "        return literal_eval(string)\n",
    "    except:\n",
    "        pass\n",
    "\n",
    "\n",
    "# Parse the stdout and organize by train, evaluation, and summary data\n",
    "def summarize(summary):\n",
    "    final = {\"train\": [], \"eval\": [], \"summary\": {}}\n",
    "    for line in summary:\n",
    "        interpretation = make_sense(line)\n",
    "        if interpretation:\n",
    "            if \"loss\" in interpretation:\n",
    "                final[\"train\"].append(interpretation)\n",
    "            elif \"eval_loss\" in interpretation:\n",
    "                final[\"eval\"].append(interpretation)\n",
    "            elif \"train_runtime\" in interpretation:\n",
    "                final[\"summary\"].update(interpretation)\n",
    "    return final"
   ]
  },
  {
   "cell_type": "markdown",
   "metadata": {},
   "source": [
    "### Plot and compare throughputs of compiled training and native training"
   ]
  },
  {
   "cell_type": "code",
   "execution_count": null,
   "metadata": {},
   "outputs": [],
   "source": [
    "native_summary = summarize(_summarize(native))\n",
    "native_throughput = native_summary[\"summary\"][\"train_samples_per_second\"]\n",
    "\n",
    "optimized_summary = summarize(_summarize(optimized))\n",
    "optimized_throughput = optimized_summary[\"summary\"][\"train_samples_per_second\"]\n",
    "\n",
    "avg_speedup = f\"{round((optimized_throughput/native_throughput-1)*100)}%\""
   ]
  },
  {
   "cell_type": "code",
   "execution_count": null,
   "metadata": {},
   "outputs": [],
   "source": [
    "native_summary[\"summary\"]"
   ]
  },
  {
   "cell_type": "markdown",
   "metadata": {},
   "source": [
    "#### Example output for native training job\n",
    "\n",
    "{'train_runtime': 5258.1061,\n",
    " 'train_samples_per_second': 64.043,\n",
    " 'train_steps_per_second': 4.574,\n",
    " 'train_loss': 0.12156725528582218,\n",
    " 'epoch': 5.0}"
   ]
  },
  {
   "cell_type": "code",
   "execution_count": null,
   "metadata": {},
   "outputs": [],
   "source": [
    "optimized_summary[\"summary\"]"
   ]
  },
  {
   "cell_type": "markdown",
   "metadata": {},
   "source": [
    "### Training Throughput Plot\n",
    "\n",
    "The following script creates a plot that compares the throughput (number_of_samples/second) of the two training jobs with and without SageMaker Training Compiler."
   ]
  },
  {
   "cell_type": "code",
   "execution_count": null,
   "metadata": {},
   "outputs": [],
   "source": [
    "# %matplotlib inline\n",
    "\n",
    "plt.title(\"Training Throughput \\n (Higher is better)\")\n",
    "plt.ylabel(\"Samples/sec\")\n",
    "\n",
    "plt.bar(x=[1], height=native_throughput, label=\"Baseline PT\", width=0.35)\n",
    "plt.bar(x=[1.5], height=optimized_throughput, label=\"SM-Training-Compiler-enhanced PT\", width=0.35)\n",
    "\n",
    "plt.xlabel(\"  ====> {} SM-Training-Compiler savings <====\".format(avg_speedup))\n",
    "plt.xticks(ticks=[1, 1.5], labels=[\"Baseline PT\", \"SM-Training-Compiler-enhanced PT\"])"
   ]
  },
  {
   "cell_type": "markdown",
   "metadata": {},
   "source": [
    "### Convergence of Training Loss\n",
    "\n",
    "The following script creates a plot that compares the loss function of the two training jobs with and without SageMaker Training Compiler."
   ]
  },
  {
   "cell_type": "code",
   "execution_count": null,
   "metadata": {},
   "outputs": [],
   "source": [
    "vanilla_loss = [i[\"loss\"] for i in native_summary[\"train\"]]\n",
    "vanilla_epochs = [i[\"epoch\"] for i in native_summary[\"train\"]]\n",
    "optimized_loss = [i[\"loss\"] for i in optimized_summary[\"train\"]]\n",
    "optimized_epochs = [i[\"epoch\"] for i in optimized_summary[\"train\"]]\n",
    "\n",
    "plt.title(\"Plot of Training Loss\")\n",
    "plt.xlabel(\"Epoch\")\n",
    "plt.ylabel(\"Training Loss\")\n",
    "plt.plot(vanilla_epochs, vanilla_loss, label=\"Baseline PT\")\n",
    "plt.plot(optimized_epochs, optimized_loss, label=\"SM-Training-Compiler-enhanced PT\")\n",
    "plt.legend()\n",
    "plt.show()"
   ]
  },
  {
   "attachments": {
    "trainingloss.png": {
     "image/png": "[encoded data removed]"
    }
   },
   "cell_type": "markdown",
   "metadata": {},
   "source": [
    "## Convergence Example Plot\n",
    "\n",
    "![trainingloss.png](attachment:trainingloss.png)\n",
    "\n",
    "**Note:** For this example, due to the larger batch size that can be accommodated by the SageMaker Training Compiler, the initial decrease in training loss is greater when the SageMaker Training Compiler is enabled"
   ]
  },
  {
   "cell_type": "markdown",
   "metadata": {},
   "source": [
    "### Evaluation"
   ]
  },
  {
   "cell_type": "code",
   "execution_count": null,
   "metadata": {},
   "outputs": [],
   "source": [
    "# Create table of summary results including loss, accuracy, f1 score, precision, recall, and steps per second\n",
    "# for both native and optimized training jobs\n",
    "import pandas as pd\n",
    "table = pd.DataFrame(\n",
    "    [native_summary[\"eval\"][-1], optimized_summary[\"eval\"][-1]],\n",
    "    index=[\"Baseline PT\", \"SM-Training-Compiler-enhanced PT\"],\n",
    ")\n",
    "table.drop(columns=[\"eval_runtime\", \"eval_samples_per_second\", \"epoch\"])"
   ]
  },
  {
   "cell_type": "code",
   "execution_count": null,
   "metadata": {},
   "outputs": [],
   "source": []
  }
 ],
 "metadata": {
  "instance_type": "ml.t3.medium",
  "interpreter": {
   "hash": "c281c456f1b8161c8906f4af2c08ed2c40c50136979eaae69688b01f70e9f4a9"
  },
  "kernelspec": {
   "display_name": "Python 3 (PyTorch 1.4 Python 3.6 CPU Optimized)",
   "language": "python",
   "name": "python3__SAGEMAKER_INTERNAL__arn:aws:sagemaker:us-west-2:236514542706:image/pytorch-1.4-cpu-py36"
  },
  "language_info": {
   "codemirror_mode": {
    "name": "ipython",
    "version": 3
   },
   "file_extension": ".py",
   "mimetype": "text/x-python",
   "name": "python",
   "nbconvert_exporter": "python",
   "pygments_lexer": "ipython3",
   "version": "3.6.13"
  }
 },
 "nbformat": 4,
 "nbformat_minor": 4
}
